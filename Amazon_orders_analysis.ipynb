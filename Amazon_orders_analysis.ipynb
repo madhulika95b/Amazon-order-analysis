{
 "cells": [
  {
   "cell_type": "code",
   "execution_count": 1,
   "metadata": {},
   "outputs": [],
   "source": [
    "import pandas as pd\n",
    "import matplotlib.pyplot as plt"
   ]
  },
  {
   "cell_type": "code",
   "execution_count": 2,
   "metadata": {},
   "outputs": [
    {
     "data": {
      "text/html": [
       "<div>\n",
       "<style scoped>\n",
       "    .dataframe tbody tr th:only-of-type {\n",
       "        vertical-align: middle;\n",
       "    }\n",
       "\n",
       "    .dataframe tbody tr th {\n",
       "        vertical-align: top;\n",
       "    }\n",
       "\n",
       "    .dataframe thead th {\n",
       "        text-align: right;\n",
       "    }\n",
       "</style>\n",
       "<table border=\"1\" class=\"dataframe\">\n",
       "  <thead>\n",
       "    <tr style=\"text-align: right;\">\n",
       "      <th></th>\n",
       "      <th>Order Date</th>\n",
       "      <th>Order ID</th>\n",
       "      <th>Payment Instrument Type</th>\n",
       "      <th>Website</th>\n",
       "      <th>Purchase Order Number</th>\n",
       "      <th>Ordering Customer Email</th>\n",
       "      <th>Shipment Date</th>\n",
       "      <th>Shipping Address Name</th>\n",
       "      <th>Shipping Address Street 1</th>\n",
       "      <th>Shipping Address Street 2</th>\n",
       "      <th>...</th>\n",
       "      <th>Order Status</th>\n",
       "      <th>Carrier Name &amp; Tracking Number</th>\n",
       "      <th>Subtotal</th>\n",
       "      <th>Shipping Charge</th>\n",
       "      <th>Tax Before Promotions</th>\n",
       "      <th>Total Promotions</th>\n",
       "      <th>Tax Charged</th>\n",
       "      <th>Total Charged</th>\n",
       "      <th>Buyer Name</th>\n",
       "      <th>Group Name</th>\n",
       "    </tr>\n",
       "  </thead>\n",
       "  <tbody>\n",
       "    <tr>\n",
       "      <th>0</th>\n",
       "      <td>04/01/19</td>\n",
       "      <td>112-0000000-0000001</td>\n",
       "      <td>Visa - 0001</td>\n",
       "      <td>Amazon.com</td>\n",
       "      <td>NaN</td>\n",
       "      <td>your_email@gmail.com</td>\n",
       "      <td>04/01/19</td>\n",
       "      <td>Your Name</td>\n",
       "      <td>1 YOUR STREET</td>\n",
       "      <td>NaN</td>\n",
       "      <td>...</td>\n",
       "      <td>Shipped</td>\n",
       "      <td>USPS(0001)</td>\n",
       "      <td>$35.00</td>\n",
       "      <td>$0.00</td>\n",
       "      <td>$1.93</td>\n",
       "      <td>$0.00</td>\n",
       "      <td>$1.93</td>\n",
       "      <td>$36.93</td>\n",
       "      <td>Your Name</td>\n",
       "      <td>NaN</td>\n",
       "    </tr>\n",
       "    <tr>\n",
       "      <th>1</th>\n",
       "      <td>04/01/19</td>\n",
       "      <td>112-0000000-0000002</td>\n",
       "      <td>Visa - 0001</td>\n",
       "      <td>Amazon.com</td>\n",
       "      <td>NaN</td>\n",
       "      <td>your_email@gmail.com</td>\n",
       "      <td>04/01/19</td>\n",
       "      <td>Your Name</td>\n",
       "      <td>1 YOUR STREET</td>\n",
       "      <td>NaN</td>\n",
       "      <td>...</td>\n",
       "      <td>Shipped</td>\n",
       "      <td>USPS(0001)</td>\n",
       "      <td>$16.99</td>\n",
       "      <td>$0.00</td>\n",
       "      <td>$0.00</td>\n",
       "      <td>$0.00</td>\n",
       "      <td>$0.00</td>\n",
       "      <td>$16.99</td>\n",
       "      <td>Your Name</td>\n",
       "      <td>NaN</td>\n",
       "    </tr>\n",
       "    <tr>\n",
       "      <th>2</th>\n",
       "      <td>04/01/19</td>\n",
       "      <td>112-0000000-0000003</td>\n",
       "      <td>Visa - 0001</td>\n",
       "      <td>Amazon.com</td>\n",
       "      <td>NaN</td>\n",
       "      <td>your_email@gmail.com</td>\n",
       "      <td>04/01/19</td>\n",
       "      <td>Your Name</td>\n",
       "      <td>1 YOUR STREET</td>\n",
       "      <td>NaN</td>\n",
       "      <td>...</td>\n",
       "      <td>Shipped</td>\n",
       "      <td>USPS(0001)</td>\n",
       "      <td>$9.99</td>\n",
       "      <td>$0.00</td>\n",
       "      <td>$0.00</td>\n",
       "      <td>$0.00</td>\n",
       "      <td>$0.00</td>\n",
       "      <td>$9.99</td>\n",
       "      <td>Your Name</td>\n",
       "      <td>NaN</td>\n",
       "    </tr>\n",
       "    <tr>\n",
       "      <th>3</th>\n",
       "      <td>04/04/19</td>\n",
       "      <td>112-0000000-0000004</td>\n",
       "      <td>Visa - 0001</td>\n",
       "      <td>Amazon.com</td>\n",
       "      <td>NaN</td>\n",
       "      <td>your_email@gmail.com</td>\n",
       "      <td>04/05/19</td>\n",
       "      <td>Your Name</td>\n",
       "      <td>1 YOUR STREET</td>\n",
       "      <td>NaN</td>\n",
       "      <td>...</td>\n",
       "      <td>Shipped</td>\n",
       "      <td>UPS(0002)</td>\n",
       "      <td>$147.98</td>\n",
       "      <td>$0.00</td>\n",
       "      <td>$8.14</td>\n",
       "      <td>$0.00</td>\n",
       "      <td>$8.14</td>\n",
       "      <td>$156.12</td>\n",
       "      <td>Your Name</td>\n",
       "      <td>NaN</td>\n",
       "    </tr>\n",
       "    <tr>\n",
       "      <th>4</th>\n",
       "      <td>04/05/19</td>\n",
       "      <td>112-0000000-0000005</td>\n",
       "      <td>Visa - 0001</td>\n",
       "      <td>Amazon.com</td>\n",
       "      <td>NaN</td>\n",
       "      <td>your_email@gmail.com</td>\n",
       "      <td>04/07/19</td>\n",
       "      <td>Your Name</td>\n",
       "      <td>1 YOUR STREET</td>\n",
       "      <td>NaN</td>\n",
       "      <td>...</td>\n",
       "      <td>Shipped</td>\n",
       "      <td>USPS(0001)</td>\n",
       "      <td>$14.99</td>\n",
       "      <td>$0.00</td>\n",
       "      <td>$0.00</td>\n",
       "      <td>$0.00</td>\n",
       "      <td>$0.00</td>\n",
       "      <td>$14.99</td>\n",
       "      <td>Your Name</td>\n",
       "      <td>NaN</td>\n",
       "    </tr>\n",
       "  </tbody>\n",
       "</table>\n",
       "<p>5 rows × 23 columns</p>\n",
       "</div>"
      ],
      "text/plain": [
       "  Order Date             Order ID Payment Instrument Type     Website  \\\n",
       "0   04/01/19  112-0000000-0000001             Visa - 0001  Amazon.com   \n",
       "1   04/01/19  112-0000000-0000002             Visa - 0001  Amazon.com   \n",
       "2   04/01/19  112-0000000-0000003             Visa - 0001  Amazon.com   \n",
       "3   04/04/19  112-0000000-0000004             Visa - 0001  Amazon.com   \n",
       "4   04/05/19  112-0000000-0000005             Visa - 0001  Amazon.com   \n",
       "\n",
       "   Purchase Order Number Ordering Customer Email Shipment Date  \\\n",
       "0                    NaN    your_email@gmail.com      04/01/19   \n",
       "1                    NaN    your_email@gmail.com      04/01/19   \n",
       "2                    NaN    your_email@gmail.com      04/01/19   \n",
       "3                    NaN    your_email@gmail.com      04/05/19   \n",
       "4                    NaN    your_email@gmail.com      04/07/19   \n",
       "\n",
       "  Shipping Address Name Shipping Address Street 1  Shipping Address Street 2  \\\n",
       "0             Your Name             1 YOUR STREET                        NaN   \n",
       "1             Your Name             1 YOUR STREET                        NaN   \n",
       "2             Your Name             1 YOUR STREET                        NaN   \n",
       "3             Your Name             1 YOUR STREET                        NaN   \n",
       "4             Your Name             1 YOUR STREET                        NaN   \n",
       "\n",
       "     ...     Order Status Carrier Name & Tracking Number Subtotal  \\\n",
       "0    ...          Shipped                     USPS(0001)   $35.00   \n",
       "1    ...          Shipped                     USPS(0001)   $16.99   \n",
       "2    ...          Shipped                     USPS(0001)    $9.99   \n",
       "3    ...          Shipped                      UPS(0002)  $147.98   \n",
       "4    ...          Shipped                     USPS(0001)   $14.99   \n",
       "\n",
       "  Shipping Charge Tax Before Promotions Total Promotions Tax Charged  \\\n",
       "0           $0.00                 $1.93            $0.00       $1.93   \n",
       "1           $0.00                 $0.00            $0.00       $0.00   \n",
       "2           $0.00                 $0.00            $0.00       $0.00   \n",
       "3           $0.00                 $8.14            $0.00       $8.14   \n",
       "4           $0.00                 $0.00            $0.00       $0.00   \n",
       "\n",
       "  Total Charged Buyer Name Group Name  \n",
       "0        $36.93  Your Name        NaN  \n",
       "1        $16.99  Your Name        NaN  \n",
       "2         $9.99  Your Name        NaN  \n",
       "3       $156.12  Your Name        NaN  \n",
       "4        $14.99  Your Name        NaN  \n",
       "\n",
       "[5 rows x 23 columns]"
      ]
     },
     "execution_count": 2,
     "metadata": {},
     "output_type": "execute_result"
    }
   ],
   "source": [
    "orders = pd.read_csv('./amazon-orders_anonymous.csv')\n",
    "orders.head()"
   ]
  },
  {
   "cell_type": "markdown",
   "metadata": {},
   "source": [
    "### Business questions\n",
    "1. What is the total amount spent on amazon?\n",
    "2. What is the minimum, maximum, average expenditure?\n",
    "3. How is the money spent over time (by month)?\n",
    "4. Does day of the week effect expenditure?\n",
    "5. How much money has been paid in sales tax?\n"
   ]
  },
  {
   "cell_type": "markdown",
   "metadata": {},
   "source": [
    "### Data Cleaning\n",
    "* Remove features that do not contribute towards our business questions\n",
    "* Handle missing values\n",
    "* Modify the data types of columns\n",
    "* Rename the columns to avoid spaces in the names of columns"
   ]
  },
  {
   "cell_type": "code",
   "execution_count": 3,
   "metadata": {},
   "outputs": [],
   "source": [
    "# Remove inessential data (Those columns which do not contribute to our business questions.)\n",
    "\n",
    "orders = orders.drop(['Payment Instrument Type', 'Website', 'Ordering Customer Email', 'Shipping Address Name',\n",
    "                      'Shipping Address Street 1', 'Shipping Address Street 2', 'Shipping Address City',\n",
    "                      'Shipping Address State', 'Shipping Address Zip', 'Buyer Name'], axis=1)"
   ]
  },
  {
   "cell_type": "code",
   "execution_count": 4,
   "metadata": {},
   "outputs": [
    {
     "data": {
      "text/plain": [
       "Order Date                         0\n",
       "Order ID                           0\n",
       "Purchase Order Number             59\n",
       "Shipment Date                      0\n",
       "Order Status                       0\n",
       "Carrier Name & Tracking Number     0\n",
       "Subtotal                           0\n",
       "Shipping Charge                    0\n",
       "Tax Before Promotions              0\n",
       "Total Promotions                   0\n",
       "Tax Charged                        0\n",
       "Total Charged                      0\n",
       "Group Name                        59\n",
       "dtype: int64"
      ]
     },
     "execution_count": 4,
     "metadata": {},
     "output_type": "execute_result"
    }
   ],
   "source": [
    "# Handle NaN values \n",
    "orders.isnull().sum()"
   ]
  },
  {
   "cell_type": "code",
   "execution_count": 6,
   "metadata": {},
   "outputs": [],
   "source": [
    "# Drop the below columns with NaN values\n",
    "orders = orders.drop(['Purchase Order Number', 'Group Name'], axis=1)"
   ]
  },
  {
   "cell_type": "code",
   "execution_count": 7,
   "metadata": {},
   "outputs": [],
   "source": [
    "# Rename the columns\n",
    "orders.columns = orders.columns.str.replace(' ', '_')"
   ]
  },
  {
   "cell_type": "code",
   "execution_count": 8,
   "metadata": {},
   "outputs": [],
   "source": [
    "# Extract the numeric part of Pice and omit '$' symbol\n",
    "def get_price(price):\n",
    "    return price.split('$')[1]"
   ]
  },
  {
   "cell_type": "code",
   "execution_count": 9,
   "metadata": {},
   "outputs": [],
   "source": [
    "# Assign appropriate data types to columns\n",
    "\n",
    "# Drop '$' symbol from columns with money data.\n",
    "orders['Subtotal'] = orders['Subtotal'].apply(lambda x: get_price(x))\n",
    "orders['Shipping_Charge'] = orders['Shipping_Charge'].apply(lambda x: get_price(x))\n",
    "orders['Tax_Before_Promotions'] = orders['Tax_Before_Promotions'].apply(lambda x: get_price(x))\n",
    "orders['Total_Promotions'] = orders['Total_Promotions'].apply(lambda x: get_price(x))\n",
    "orders['Tax_Charged'] = orders['Tax_Charged'].apply(lambda x: get_price(x))\n",
    "orders['Total_Charged'] = orders['Total_Charged'].apply(lambda x: get_price(x))\n",
    "\n",
    "# Modify the data types of columns\n",
    "convert_dict = {'Subtotal': float, 'Shipping_Charge': float, 'Tax_Before_Promotions': float, \n",
    "                'Total_Promotions': float, 'Tax_Charged': float, 'Total_Charged': float}\n",
    "\n",
    "orders = orders.astype(convert_dict)\n",
    "orders['Order_Date'] = pd.to_datetime(orders['Order_Date'])\n",
    "orders['Shipment_Date'] = pd.to_datetime(orders['Shipment_Date'])"
   ]
  },
  {
   "cell_type": "code",
   "execution_count": 10,
   "metadata": {},
   "outputs": [
    {
     "data": {
      "text/plain": [
       "Index(['Order_Date', 'Order_ID', 'Shipment_Date', 'Order_Status',\n",
       "       'Carrier_Name_&_Tracking_Number', 'Subtotal', 'Shipping_Charge',\n",
       "       'Tax_Before_Promotions', 'Total_Promotions', 'Tax_Charged',\n",
       "       'Total_Charged'],\n",
       "      dtype='object')"
      ]
     },
     "execution_count": 10,
     "metadata": {},
     "output_type": "execute_result"
    }
   ],
   "source": [
    "orders.columns"
   ]
  },
  {
   "cell_type": "code",
   "execution_count": 11,
   "metadata": {},
   "outputs": [
    {
     "data": {
      "text/html": [
       "<div>\n",
       "<style scoped>\n",
       "    .dataframe tbody tr th:only-of-type {\n",
       "        vertical-align: middle;\n",
       "    }\n",
       "\n",
       "    .dataframe tbody tr th {\n",
       "        vertical-align: top;\n",
       "    }\n",
       "\n",
       "    .dataframe thead th {\n",
       "        text-align: right;\n",
       "    }\n",
       "</style>\n",
       "<table border=\"1\" class=\"dataframe\">\n",
       "  <thead>\n",
       "    <tr style=\"text-align: right;\">\n",
       "      <th></th>\n",
       "      <th>Order_Date</th>\n",
       "      <th>Order_ID</th>\n",
       "      <th>Shipment_Date</th>\n",
       "      <th>Order_Status</th>\n",
       "      <th>Carrier_Name_&amp;_Tracking_Number</th>\n",
       "      <th>Subtotal</th>\n",
       "      <th>Shipping_Charge</th>\n",
       "      <th>Tax_Before_Promotions</th>\n",
       "      <th>Total_Promotions</th>\n",
       "      <th>Tax_Charged</th>\n",
       "      <th>Total_Charged</th>\n",
       "    </tr>\n",
       "  </thead>\n",
       "  <tbody>\n",
       "    <tr>\n",
       "      <th>0</th>\n",
       "      <td>2019-04-01</td>\n",
       "      <td>112-0000000-0000001</td>\n",
       "      <td>2019-04-01</td>\n",
       "      <td>Shipped</td>\n",
       "      <td>USPS(0001)</td>\n",
       "      <td>35.00</td>\n",
       "      <td>0.0</td>\n",
       "      <td>1.93</td>\n",
       "      <td>0.0</td>\n",
       "      <td>1.93</td>\n",
       "      <td>36.93</td>\n",
       "    </tr>\n",
       "    <tr>\n",
       "      <th>1</th>\n",
       "      <td>2019-04-01</td>\n",
       "      <td>112-0000000-0000002</td>\n",
       "      <td>2019-04-01</td>\n",
       "      <td>Shipped</td>\n",
       "      <td>USPS(0001)</td>\n",
       "      <td>16.99</td>\n",
       "      <td>0.0</td>\n",
       "      <td>0.00</td>\n",
       "      <td>0.0</td>\n",
       "      <td>0.00</td>\n",
       "      <td>16.99</td>\n",
       "    </tr>\n",
       "    <tr>\n",
       "      <th>2</th>\n",
       "      <td>2019-04-01</td>\n",
       "      <td>112-0000000-0000003</td>\n",
       "      <td>2019-04-01</td>\n",
       "      <td>Shipped</td>\n",
       "      <td>USPS(0001)</td>\n",
       "      <td>9.99</td>\n",
       "      <td>0.0</td>\n",
       "      <td>0.00</td>\n",
       "      <td>0.0</td>\n",
       "      <td>0.00</td>\n",
       "      <td>9.99</td>\n",
       "    </tr>\n",
       "    <tr>\n",
       "      <th>3</th>\n",
       "      <td>2019-04-04</td>\n",
       "      <td>112-0000000-0000004</td>\n",
       "      <td>2019-04-05</td>\n",
       "      <td>Shipped</td>\n",
       "      <td>UPS(0002)</td>\n",
       "      <td>147.98</td>\n",
       "      <td>0.0</td>\n",
       "      <td>8.14</td>\n",
       "      <td>0.0</td>\n",
       "      <td>8.14</td>\n",
       "      <td>156.12</td>\n",
       "    </tr>\n",
       "    <tr>\n",
       "      <th>4</th>\n",
       "      <td>2019-04-05</td>\n",
       "      <td>112-0000000-0000005</td>\n",
       "      <td>2019-04-07</td>\n",
       "      <td>Shipped</td>\n",
       "      <td>USPS(0001)</td>\n",
       "      <td>14.99</td>\n",
       "      <td>0.0</td>\n",
       "      <td>0.00</td>\n",
       "      <td>0.0</td>\n",
       "      <td>0.00</td>\n",
       "      <td>14.99</td>\n",
       "    </tr>\n",
       "  </tbody>\n",
       "</table>\n",
       "</div>"
      ],
      "text/plain": [
       "  Order_Date             Order_ID Shipment_Date Order_Status  \\\n",
       "0 2019-04-01  112-0000000-0000001    2019-04-01      Shipped   \n",
       "1 2019-04-01  112-0000000-0000002    2019-04-01      Shipped   \n",
       "2 2019-04-01  112-0000000-0000003    2019-04-01      Shipped   \n",
       "3 2019-04-04  112-0000000-0000004    2019-04-05      Shipped   \n",
       "4 2019-04-05  112-0000000-0000005    2019-04-07      Shipped   \n",
       "\n",
       "  Carrier_Name_&_Tracking_Number  Subtotal  Shipping_Charge  \\\n",
       "0                     USPS(0001)     35.00              0.0   \n",
       "1                     USPS(0001)     16.99              0.0   \n",
       "2                     USPS(0001)      9.99              0.0   \n",
       "3                      UPS(0002)    147.98              0.0   \n",
       "4                     USPS(0001)     14.99              0.0   \n",
       "\n",
       "   Tax_Before_Promotions  Total_Promotions  Tax_Charged  Total_Charged  \n",
       "0                   1.93               0.0         1.93          36.93  \n",
       "1                   0.00               0.0         0.00          16.99  \n",
       "2                   0.00               0.0         0.00           9.99  \n",
       "3                   8.14               0.0         8.14         156.12  \n",
       "4                   0.00               0.0         0.00          14.99  "
      ]
     },
     "execution_count": 11,
     "metadata": {},
     "output_type": "execute_result"
    }
   ],
   "source": [
    "orders.head()"
   ]
  },
  {
   "cell_type": "markdown",
   "metadata": {},
   "source": [
    "### Data Exploration"
   ]
  },
  {
   "cell_type": "code",
   "execution_count": 12,
   "metadata": {},
   "outputs": [
    {
     "data": {
      "text/plain": [
       "1777.7300000000002"
      ]
     },
     "execution_count": 12,
     "metadata": {},
     "output_type": "execute_result"
    }
   ],
   "source": [
    "# 1. What is the total amount spent on amazon?\n",
    "\n",
    "orders['Total_Charged'].sum()"
   ]
  },
  {
   "cell_type": "code",
   "execution_count": 15,
   "metadata": {},
   "outputs": [
    {
     "name": "stdout",
     "output_type": "stream",
     "text": [
      "Minimum amount purchase made on Amazon is of 1.04 USD\n",
      "Maximum amount purchase made on Amazon is of 210.99 USD\n",
      "Average amount spent on Amazon purchases is of 30.131016949152542 USD\n"
     ]
    }
   ],
   "source": [
    "# 2. What is the minimum, maximum, average expenditure?\n",
    "\n",
    "print('Minimum amount purchase made on Amazon is of', orders['Total_Charged'].min(), 'USD')\n",
    "print('Maximum amount purchase made on Amazon is of', orders['Total_Charged'].max(), 'USD')\n",
    "print('Average amount spent on Amazon purchases is of', orders['Total_Charged'].mean(), 'USD')"
   ]
  },
  {
   "cell_type": "code",
   "execution_count": 18,
   "metadata": {},
   "outputs": [
    {
     "data": {
      "image/png": "[encoded data removed]",
      "text/plain": [
       "<Figure size 432x288 with 1 Axes>"
      ]
     },
     "metadata": {
      "needs_background": "light"
     },
     "output_type": "display_data"
    }
   ],
   "source": [
    "# 3. How do purchases trend by month?\n",
    "\n",
    "# Extract month of Order date\n",
    "order_month_col = pd.DatetimeIndex(orders['Order_Date']).month\n",
    "orders.insert(loc=3, column='Order_Month', value=order_month_col)\n",
    "\n",
    "\n",
    "# plot a bar graph.\n",
    "\n",
    "months = orders['Order_Month'].unique()\n",
    "orders_by_month = orders.groupby(['Order_Month'])['Total_Charged'].sum()\n",
    "\n",
    "plt.bar(months, orders_by_month, width=0.5)\n",
    "plt.xticks(months)\n",
    "plt.ylabel('Purchases in USD ($)')\n",
    "plt.xlabel('Order by month')\n",
    "plt.show()"
   ]
  },
  {
   "cell_type": "code",
   "execution_count": 19,
   "metadata": {},
   "outputs": [
    {
     "data": {
      "image/png": "[encoded data removed]",
      "text/plain": [
       "<Figure size 432x288 with 1 Axes>"
      ]
     },
     "metadata": {
      "needs_background": "light"
     },
     "output_type": "display_data"
    }
   ],
   "source": [
    "#  4. Does day of the week effect expenditure?\n",
    "\n",
    "# Extract day of week of Order date\n",
    "order_day_col = pd.DatetimeIndex(orders['Order_Date']).dayofweek\n",
    "orders.insert(loc=4, column='Order_Dayofweek', value=order_day_col)\n",
    "\n",
    "\n",
    "# plot a bar graph.\n",
    "\n",
    "days = orders['Order_Dayofweek'].unique()\n",
    "orders_by_day = orders.groupby(['Order_Dayofweek'])['Total_Charged'].count()\n",
    "\n",
    "plt.bar(days, orders_by_day, width=0.5)\n",
    "plt.xticks(days)\n",
    "plt.ylabel('Purchases in USD ($)')\n",
    "plt.xlabel('Order Day of week')\n",
    "plt.show()"
   ]
  },
  {
   "cell_type": "code",
   "execution_count": 21,
   "metadata": {},
   "outputs": [
    {
     "name": "stdout",
     "output_type": "stream",
     "text": [
      "Total amount spent on sales tax is of 52.60999999999999 USD\n"
     ]
    }
   ],
   "source": [
    "# 5. How much money has been paid in sales tax?\n",
    "\n",
    "print('Total amount spent on sales tax is of', orders['Tax_Charged'].sum(), 'USD')"
   ]
  }
 ],
 "metadata": {
  "kernelspec": {
   "display_name": "Python 3",
   "language": "python",
   "name": "python3"
  },
  "language_info": {
   "codemirror_mode": {
    "name": "ipython",
    "version": 3
   },
   "file_extension": ".py",
   "mimetype": "text/x-python",
   "name": "python",
   "nbconvert_exporter": "python",
   "pygments_lexer": "ipython3",
   "version": "3.7.0"
  }
 },
 "nbformat": 4,
 "nbformat_minor": 2
}
